{
 "cells": [
  {
   "cell_type": "code",
   "execution_count": 8,
   "metadata": {
    "colab": {
     "base_uri": "https://localhost:8080/",
     "height": 34
    },
    "colab_type": "code",
    "id": "4gs9htvM7n_x",
    "outputId": "3627a35c-8696-4da2-ede6-bbc44009b2af"
   },
   "outputs": [
    {
     "name": "stdout",
     "output_type": "stream",
     "text": [
      "2.3.0\n"
     ]
    }
   ],
   "source": [
    "import tensorflow as tf\n",
    "print(tf.__version__)"
   ]
  },
  {
   "cell_type": "code",
   "execution_count": 1,
   "metadata": {
    "colab": {},
    "colab_type": "code",
    "id": "XYYDvoskkE61"
   },
   "outputs": [],
   "source": [
    "import json\n",
    "\n",
    "\n",
    "from tensorflow.keras.preprocessing.text import Tokenizer\n",
    "from tensorflow.keras.preprocessing.sequence import pad_sequences"
   ]
  },
  {
   "cell_type": "code",
   "execution_count": 2,
   "metadata": {
    "colab": {},
    "colab_type": "code",
    "id": "0eJSTTYnkJQd"
   },
   "outputs": [],
   "source": [
    "vocab_size = 10000\n",
    "embedding_dim = 16\n",
    "max_length = 100\n",
    "trunc_type='post'\n",
    "padding_type='post'\n",
    "oov_tok = \"<OOV>\"\n",
    "training_size = 20000\n"
   ]
  },
  {
   "cell_type": "code",
   "execution_count": 3,
   "metadata": {
    "colab": {
     "base_uri": "https://localhost:8080/",
     "height": 204
    },
    "colab_type": "code",
    "id": "BQVuQrZNkPn9",
    "outputId": "c20b3f5c-0c50-4b0f-9267-6372a18703a8"
   },
   "outputs": [
    {
     "name": "stderr",
     "output_type": "stream",
     "text": [
      "'wget' is not recognized as an internal or external command,\n",
      "operable program or batch file.\n"
     ]
    }
   ],
   "source": [
    "\n"
   ]
  },
  {
   "cell_type": "code",
   "execution_count": 3,
   "metadata": {
    "colab": {},
    "colab_type": "code",
    "id": "oaLaaqhNkUPd"
   },
   "outputs": [],
   "source": [
    "with open(\"sarcasm.json\", 'r') as f:\n",
    "    datastore = json.load(f)\n",
    "\n",
    "sentences = []\n",
    "labels = []\n",
    "\n",
    "for item in datastore:\n",
    "    sentences.append(item['headline'])\n",
    "    labels.append(item['is_sarcastic'])"
   ]
  },
  {
   "cell_type": "code",
   "execution_count": 4,
   "metadata": {
    "colab": {},
    "colab_type": "code",
    "id": "S1sD-7v0kYWk"
   },
   "outputs": [],
   "source": [
    "training_sentences = sentences[0:training_size]\n",
    "testing_sentences = sentences[training_size:]\n",
    "training_labels = labels[0:training_size]\n",
    "testing_labels = labels[training_size:]"
   ]
  },
  {
   "cell_type": "code",
   "execution_count": 5,
   "metadata": {
    "colab": {},
    "colab_type": "code",
    "id": "3u8UB0MCkZ5N"
   },
   "outputs": [],
   "source": [
    "tokenizer = Tokenizer(num_words=vocab_size, oov_token=oov_tok)\n",
    "tokenizer.fit_on_texts(training_sentences)\n",
    "\n",
    "word_index = tokenizer.word_index\n",
    "\n",
    "training_sequences = tokenizer.texts_to_sequences(training_sentences)\n",
    "training_padded = pad_sequences(training_sequences, maxlen=max_length, padding=padding_type, truncating=trunc_type)\n",
    "\n",
    "testing_sequences = tokenizer.texts_to_sequences(testing_sentences)\n",
    "testing_padded = pad_sequences(testing_sequences, maxlen=max_length, padding=padding_type, truncating=trunc_type)"
   ]
  },
  {
   "cell_type": "code",
   "execution_count": 6,
   "metadata": {
    "colab": {},
    "colab_type": "code",
    "id": "GrAlWBKf99Ya"
   },
   "outputs": [],
   "source": [
    "# Need this block to get it to work with TensorFlow 2.x\n",
    "import numpy as np\n",
    "training_padded = np.array(training_padded)\n",
    "training_labels = np.array(training_labels)\n",
    "testing_padded = np.array(testing_padded)\n",
    "testing_labels = np.array(testing_labels)"
   ]
  },
  {
   "cell_type": "code",
   "execution_count": 9,
   "metadata": {
    "colab": {},
    "colab_type": "code",
    "id": "FufaT4vlkiDE"
   },
   "outputs": [],
   "source": [
    "model = tf.keras.Sequential([\n",
    "    tf.keras.layers.Embedding(vocab_size, embedding_dim, input_length=max_length),\n",
    "    tf.keras.layers.GlobalAveragePooling1D(),\n",
    "    tf.keras.layers.Dense(24, activation='relu'),\n",
    "    tf.keras.layers.Dense(1, activation='sigmoid')\n",
    "])\n",
    "model.compile(loss='binary_crossentropy',optimizer='adam',metrics=['accuracy'])"
   ]
  },
  {
   "cell_type": "code",
   "execution_count": 10,
   "metadata": {
    "colab": {
     "base_uri": "https://localhost:8080/",
     "height": 289
    },
    "colab_type": "code",
    "id": "XfDt1hmYkiys",
    "outputId": "3fbd1b43-d69d-4296-d9bb-33a3034e5633"
   },
   "outputs": [
    {
     "name": "stdout",
     "output_type": "stream",
     "text": [
      "Model: \"sequential\"\n",
      "_________________________________________________________________\n",
      "Layer (type)                 Output Shape              Param #   \n",
      "=================================================================\n",
      "embedding (Embedding)        (None, 100, 16)           160000    \n",
      "_________________________________________________________________\n",
      "global_average_pooling1d (Gl (None, 16)                0         \n",
      "_________________________________________________________________\n",
      "dense (Dense)                (None, 24)                408       \n",
      "_________________________________________________________________\n",
      "dense_1 (Dense)              (None, 1)                 25        \n",
      "=================================================================\n",
      "Total params: 160,433\n",
      "Trainable params: 160,433\n",
      "Non-trainable params: 0\n",
      "_________________________________________________________________\n"
     ]
    }
   ],
   "source": [
    "model.summary()\n"
   ]
  },
  {
   "cell_type": "code",
   "execution_count": 11,
   "metadata": {
    "colab": {
     "base_uri": "https://localhost:8080/",
     "height": 1000
    },
    "colab_type": "code",
    "id": "2DTKQFf1kkyc",
    "outputId": "e15c7a1a-1e8d-4e6e-b537-773311ef650b"
   },
   "outputs": [
    {
     "name": "stdout",
     "output_type": "stream",
     "text": [
      "Epoch 1/30\n",
      "625/625 - 2s - loss: 0.6718 - accuracy: 0.5734 - val_loss: 0.6165 - val_accuracy: 0.5944\n",
      "Epoch 2/30\n",
      "625/625 - 2s - loss: 0.4548 - accuracy: 0.8166 - val_loss: 0.3904 - val_accuracy: 0.8386\n",
      "Epoch 3/30\n",
      "625/625 - 2s - loss: 0.3167 - accuracy: 0.8751 - val_loss: 0.3623 - val_accuracy: 0.8429\n",
      "Epoch 4/30\n",
      "625/625 - 2s - loss: 0.2635 - accuracy: 0.8957 - val_loss: 0.3486 - val_accuracy: 0.8548\n",
      "Epoch 5/30\n",
      "625/625 - 2s - loss: 0.2270 - accuracy: 0.9138 - val_loss: 0.3440 - val_accuracy: 0.8551\n",
      "Epoch 6/30\n",
      "625/625 - 2s - loss: 0.1986 - accuracy: 0.9233 - val_loss: 0.3503 - val_accuracy: 0.8550\n",
      "Epoch 7/30\n",
      "625/625 - 2s - loss: 0.1765 - accuracy: 0.9344 - val_loss: 0.3615 - val_accuracy: 0.8548\n",
      "Epoch 8/30\n",
      "625/625 - 2s - loss: 0.1586 - accuracy: 0.9416 - val_loss: 0.3818 - val_accuracy: 0.8501\n",
      "Epoch 9/30\n",
      "625/625 - 2s - loss: 0.1444 - accuracy: 0.9481 - val_loss: 0.3937 - val_accuracy: 0.8527\n",
      "Epoch 10/30\n",
      "625/625 - 1s - loss: 0.1310 - accuracy: 0.9523 - val_loss: 0.4115 - val_accuracy: 0.8505\n",
      "Epoch 11/30\n",
      "625/625 - 1s - loss: 0.1176 - accuracy: 0.9587 - val_loss: 0.4345 - val_accuracy: 0.8483\n",
      "Epoch 12/30\n",
      "625/625 - 1s - loss: 0.1072 - accuracy: 0.9639 - val_loss: 0.4565 - val_accuracy: 0.8466\n",
      "Epoch 13/30\n",
      "625/625 - 2s - loss: 0.0988 - accuracy: 0.9668 - val_loss: 0.4853 - val_accuracy: 0.8429\n",
      "Epoch 14/30\n",
      "625/625 - 1s - loss: 0.0908 - accuracy: 0.9692 - val_loss: 0.5299 - val_accuracy: 0.8365\n",
      "Epoch 15/30\n",
      "625/625 - 2s - loss: 0.0837 - accuracy: 0.9721 - val_loss: 0.5372 - val_accuracy: 0.8398\n",
      "Epoch 16/30\n",
      "625/625 - 2s - loss: 0.0754 - accuracy: 0.9751 - val_loss: 0.5716 - val_accuracy: 0.8366\n",
      "Epoch 17/30\n",
      "625/625 - 2s - loss: 0.0718 - accuracy: 0.9768 - val_loss: 0.5990 - val_accuracy: 0.8335\n",
      "Epoch 18/30\n",
      "625/625 - 2s - loss: 0.0644 - accuracy: 0.9795 - val_loss: 0.6347 - val_accuracy: 0.8305\n",
      "Epoch 19/30\n",
      "625/625 - 2s - loss: 0.0585 - accuracy: 0.9818 - val_loss: 0.6625 - val_accuracy: 0.8298\n",
      "Epoch 20/30\n",
      "625/625 - 2s - loss: 0.0549 - accuracy: 0.9830 - val_loss: 0.7336 - val_accuracy: 0.8264\n",
      "Epoch 21/30\n",
      "625/625 - 2s - loss: 0.0504 - accuracy: 0.9850 - val_loss: 0.7392 - val_accuracy: 0.8247\n",
      "Epoch 22/30\n",
      "625/625 - 2s - loss: 0.0458 - accuracy: 0.9853 - val_loss: 0.7793 - val_accuracy: 0.8237\n",
      "Epoch 23/30\n",
      "625/625 - 2s - loss: 0.0419 - accuracy: 0.9876 - val_loss: 0.8846 - val_accuracy: 0.8202\n",
      "Epoch 24/30\n",
      "625/625 - 1s - loss: 0.0393 - accuracy: 0.9890 - val_loss: 0.8447 - val_accuracy: 0.8228\n",
      "Epoch 25/30\n",
      "625/625 - 2s - loss: 0.0371 - accuracy: 0.9894 - val_loss: 0.9136 - val_accuracy: 0.8186\n",
      "Epoch 26/30\n",
      "625/625 - 2s - loss: 0.0326 - accuracy: 0.9912 - val_loss: 0.9511 - val_accuracy: 0.8064\n",
      "Epoch 27/30\n",
      "625/625 - 2s - loss: 0.0316 - accuracy: 0.9908 - val_loss: 0.9616 - val_accuracy: 0.8182\n",
      "Epoch 28/30\n",
      "625/625 - 1s - loss: 0.0293 - accuracy: 0.9920 - val_loss: 0.9985 - val_accuracy: 0.8158\n",
      "Epoch 29/30\n",
      "625/625 - 1s - loss: 0.0265 - accuracy: 0.9929 - val_loss: 1.0391 - val_accuracy: 0.8159\n",
      "Epoch 30/30\n",
      "625/625 - 2s - loss: 0.0245 - accuracy: 0.9937 - val_loss: 1.0908 - val_accuracy: 0.8158\n"
     ]
    }
   ],
   "source": [
    "num_epochs = 30\n",
    "history = model.fit(training_padded, training_labels, epochs=num_epochs, validation_data=(testing_padded, testing_labels), verbose=True)"
   ]
  },
  {
   "cell_type": "code",
   "execution_count": 12,
   "metadata": {
    "colab": {
     "base_uri": "https://localhost:8080/",
     "height": 541
    },
    "colab_type": "code",
    "id": "2HYfBKXjkmU8",
    "outputId": "dd475a0e-3cf6-44b6-d231-32fbb907779b"
   },
   "outputs": [
    {
     "data": {
      "image/png": "[encoded data removed]",
      "text/plain": [
       "<Figure size 432x288 with 1 Axes>"
      ]
     },
     "metadata": {
      "needs_background": "light"
     },
     "output_type": "display_data"
    },
    {
     "data": {
      "image/png": "[encoded data removed]",
      "text/plain": [
       "<Figure size 432x288 with 1 Axes>"
      ]
     },
     "metadata": {
      "needs_background": "light"
     },
     "output_type": "display_data"
    }
   ],
   "source": [
    "import matplotlib.pyplot as plt\n",
    "\n",
    "\n",
    "def plot_graphs(history, string):\n",
    "  plt.plot(history.history[string])\n",
    "  plt.plot(history.history['val_'+string])\n",
    "  plt.xlabel(\"Epochs\")\n",
    "  plt.ylabel(string)\n",
    "  plt.legend([string, 'val_'+string])\n",
    "  plt.show()\n",
    "  \n",
    "plot_graphs(history, \"accuracy\")\n",
    "plot_graphs(history, \"loss\")"
   ]
  },
  {
   "cell_type": "code",
   "execution_count": 13,
   "metadata": {
    "colab": {
     "base_uri": "https://localhost:8080/",
     "height": 88
    },
    "colab_type": "code",
    "id": "7SBdAZAenvzL",
    "outputId": "35e51724-fdcf-43f8-e563-c3e03fa14bbf"
   },
   "outputs": [
    {
     "name": "stdout",
     "output_type": "stream",
     "text": [
      "former <OOV> store clerk sues over secret 'black <OOV> for minority shoppers ? ? ? ? ? ? ? ? ? ? ? ? ? ? ? ? ? ? ? ? ? ? ? ? ? ? ? ? ? ? ? ? ? ? ? ? ? ? ? ? ? ? ? ? ? ? ? ? ? ? ? ? ? ? ? ? ? ? ? ? ? ? ? ? ? ? ? ? ? ? ? ? ? ? ? ? ? ? ? ? ? ? ? ? ? ? ? ?\n",
      "mom starting to fear son's web series closest thing she will have to grandchild\n",
      "1\n"
     ]
    }
   ],
   "source": [
    "reverse_word_index = dict([(value, key) for (key, value) in word_index.items()])\n",
    "\n",
    "def decode_sentence(text):\n",
    "    return ' '.join([reverse_word_index.get(i, '?') for i in text])\n",
    "\n",
    "print(decode_sentence(training_padded[0]))\n",
    "print(training_sentences[2])\n",
    "print(labels[2])"
   ]
  },
  {
   "cell_type": "code",
   "execution_count": 14,
   "metadata": {
    "colab": {
     "base_uri": "https://localhost:8080/",
     "height": 34
    },
    "colab_type": "code",
    "id": "c9MqihtEkzQ9",
    "outputId": "5e3c6798-8863-42fe-8f15-0ef3694b021f"
   },
   "outputs": [
    {
     "name": "stdout",
     "output_type": "stream",
     "text": [
      "(10000, 16)\n"
     ]
    }
   ],
   "source": [
    "e = model.layers[0]\n",
    "weights = e.get_weights()[0]\n",
    "print(weights.shape) # shape: (vocab_size, embedding_dim)\n"
   ]
  },
  {
   "cell_type": "code",
   "execution_count": 15,
   "metadata": {
    "colab": {},
    "colab_type": "code",
    "id": "LoBXVffknldU"
   },
   "outputs": [],
   "source": [
    "import io\n",
    "\n",
    "out_v = io.open('vecs.tsv', 'w', encoding='utf-8')\n",
    "out_m = io.open('meta.tsv', 'w', encoding='utf-8')\n",
    "for word_num in range(1, vocab_size):\n",
    "  word = reverse_word_index[word_num]\n",
    "  embeddings = weights[word_num]\n",
    "  out_m.write(word + \"\\n\")\n",
    "  out_v.write('\\t'.join([str(x) for x in embeddings]) + \"\\n\")\n",
    "out_v.close()\n",
    "out_m.close()"
   ]
  },
  {
   "cell_type": "code",
   "execution_count": 18,
   "metadata": {
    "colab": {
     "base_uri": "https://localhost:8080/",
     "height": 51
    },
    "colab_type": "code",
    "id": "cG8-ArY-qDcz",
    "outputId": "3c3994b5-7e5c-48e8-bd0a-55e93681d4d7"
   },
   "outputs": [
    {
     "name": "stdout",
     "output_type": "stream",
     "text": [
      "[[2.0968832e-07]\n",
      " [5.2901200e-06]]\n"
     ]
    }
   ],
   "source": [
    "sentence = [\"Sure, Donald Trump is great\", \"game of thrones season finale showing this sunday night\"]\n",
    "sequences = tokenizer.texts_to_sequences(sentence)\n",
    "padded = pad_sequences(sequences, maxlen=max_length, padding=padding_type, truncating=trunc_type)\n",
    "print(model.predict(padded))"
   ]
  },
  {
   "cell_type": "markdown",
   "metadata": {},
   "source": [
    " ## UPLOAD THE META.TSV AND THE VECS.TSV FILE TO TENSORFLOW EMBEDDING PLAYGROUND TO VISUALIZE WORDS EMBEDDED AS VECTORS \n",
    "  \n",
    "  \n",
    "  <a href=\"https://projector.tensorflow.org/\"> Click here</a>\n",
    "  \n",
    "  \n",
    "  UPLOAD THE FILES AND SELECT SPHERIZE DATA, WE CAN THEN VISUALIZE EACH WORD AS A 16-DIMENSION VECTOR. TO INCREASE THE DIMENSION OF THE VECTOR, INCREASE THE NEURONS IN THE EMBEDDING LAYER OF THE MODEL. \n",
    "  <img src='kfsjbj_auto_x1 (1).png'>"
   ]
  },
  {
   "cell_type": "code",
   "execution_count": null,
   "metadata": {},
   "outputs": [],
   "source": []
  }
 ],
 "metadata": {
  "accelerator": "GPU",
  "colab": {
   "collapsed_sections": [],
   "name": "Course 3 - Week 2 - Lesson 2.ipynb",
   "provenance": [],
   "toc_visible": true
  },
  "kernelspec": {
   "display_name": "Python 3",
   "language": "python",
   "name": "python3"
  },
  "language_info": {
   "codemirror_mode": {
    "name": "ipython",
    "version": 3
   },
   "file_extension": ".py",
   "mimetype": "text/x-python",
   "name": "python",
   "nbconvert_exporter": "python",
   "pygments_lexer": "ipython3",
   "version": "3.8.3"
  }
 },
 "nbformat": 4,
 "nbformat_minor": 1
}
